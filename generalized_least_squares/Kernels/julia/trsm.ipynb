{
 "cells": [
  {
   "cell_type": "code",
   "execution_count": 1,
   "metadata": {},
   "outputs": [
    {
     "name": "stdout",
     "output_type": "stream",
     "text": [
      "The execution time is:0.109930389\n"
     ]
    }
   ],
   "source": [
    "# This function finds the solution to A*X = alpha*B\n",
    "    # The are a total of 4 variations:\n",
    "    # A could be in its initial form or transposed.\n",
    "    # We could have either A*X or X*A\n",
    "    # inp: for simplicity we assume for now that both input matrices are squared matrices.\n",
    "    # inp1: Matrix A is a lower triangular matrix\n",
    "    # inp2: Matrix B is a full rank matrix\n",
    "using LinearAlgebra\n",
    "n = 100\n",
    "inp1 = randn(n,n)\n",
    "inp2 = Matrix(LowerTriangular(inp1))\n",
    "    # out: size of the output must be equivalent to the size of te inputs.\n",
    "out = zeros(n,n)\n",
    "\n",
    "start = 0.0\n",
    "finish = 0.0\n",
    "\n",
    "start = time_ns()\n",
    "    # Here, we will call the kernel(4 variants):\n",
    "LinearAlgebra.BLAS.trsm!('L', 'L', 'N', 'N', 1.0, inp1, inp2)\n",
    "# LinearAlgebra.BLAS.trsm!('R', 'L', 'T', 'N', 1.0, inp1, inp2)\n",
    "# LinearAlgebra.BLAS.trsm!('L', 'L', 'N', 'N', 1.0, inp1, inp2)\n",
    "# LinearAlgebra.BLAS.trsm!('R', 'L', 'T', 'N', 1.0, inp1, inp2)\n",
    "out = inp2\n",
    "finish = time_ns()\n",
    "\n",
    "println(\"The execution time is:\", (finish-start)*1e-9)\n"
   ]
  },
  {
   "cell_type": "code",
   "execution_count": null,
   "metadata": {},
   "outputs": [],
   "source": []
  }
 ],
 "metadata": {
  "kernelspec": {
   "display_name": "Julia 1.7.3",
   "language": "julia",
   "name": "julia-1.7"
  },
  "language_info": {
   "file_extension": ".jl",
   "mimetype": "application/julia",
   "name": "julia",
   "version": "1.7.3"
  },
  "toc": {
   "base_numbering": 1,
   "nav_menu": {},
   "number_sections": true,
   "sideBar": true,
   "skip_h1_title": false,
   "title_cell": "Table of Contents",
   "title_sidebar": "Contents",
   "toc_cell": false,
   "toc_position": {},
   "toc_section_display": true,
   "toc_window_display": false
  }
 },
 "nbformat": 4,
 "nbformat_minor": 4
}
