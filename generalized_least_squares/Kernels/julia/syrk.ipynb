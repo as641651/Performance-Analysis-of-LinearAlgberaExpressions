{
 "cells": [
  {
   "cell_type": "code",
   "execution_count": 1,
   "metadata": {},
   "outputs": [
    {
     "name": "stdout",
     "output_type": "stream",
     "text": [
      "The execution time is:0.09874845700000001\n"
     ]
    }
   ],
   "source": [
    "# Rank-k update of the symmetric matrix C: C = alpha*A*transpose(A) + beta*C\n",
    "    # inp: is a full-rank symmetric matrix which is multiplied with its transpose.\n",
    "    # symmetric matrices are all squared matrices.\n",
    "using LinearAlgebra\n",
    "n = 100\n",
    "inp = randn(n,n)\n",
    "inp = Matrix(Symmetric(inp, :L))\n",
    "    # out: size of the output must be equivalent to the size of te inputs.\n",
    "out = zeros(n,n)\n",
    "\n",
    "start = 0.0\n",
    "finish = 0.0\n",
    "\n",
    "start = time_ns()\n",
    "    # Here, we will call the kernel(2 variants):\n",
    "LinearAlgebra.BLAS.syrk!('L', 'N', 1.0, inp, 0.0, out)\n",
    "# LinearAlgebra.BLAS.syrk!('L', 'T', 1.0, inp, 0.0, out)\n",
    "finish = time_ns()\n",
    "\n",
    "println(\"The execution time is:\", (finish-start)*1e-9)\n"
   ]
  },
  {
   "cell_type": "code",
   "execution_count": null,
   "metadata": {},
   "outputs": [],
   "source": []
  }
 ],
 "metadata": {
  "kernelspec": {
   "display_name": "Julia 1.7.3",
   "language": "julia",
   "name": "julia-1.7"
  },
  "language_info": {
   "file_extension": ".jl",
   "mimetype": "application/julia",
   "name": "julia",
   "version": "1.7.3"
  },
  "toc": {
   "base_numbering": 1,
   "nav_menu": {},
   "number_sections": true,
   "sideBar": true,
   "skip_h1_title": false,
   "title_cell": "Table of Contents",
   "title_sidebar": "Contents",
   "toc_cell": false,
   "toc_position": {},
   "toc_section_display": true,
   "toc_window_display": false
  }
 },
 "nbformat": 4,
 "nbformat_minor": 4
}
