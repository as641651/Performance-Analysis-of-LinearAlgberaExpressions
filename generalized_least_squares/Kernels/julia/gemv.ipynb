{
 "cells": [
  {
   "cell_type": "code",
   "execution_count": 1,
   "metadata": {},
   "outputs": [
    {
     "name": "stdout",
     "output_type": "stream",
     "text": [
      "The execution time is:0.125666253\n"
     ]
    }
   ],
   "source": [
    "# This function multiplies a full rank matrix and a vector.\n",
    "    # The matrix could be in its initial form or transposed.\n",
    "    # For now, we assume that the input matrix is a squared matrix\n",
    "    # --> I do not know if this assumption is necessary or not!\n",
    "    # how should we create a full rank matrix for this experiment?\n",
    "using LinearAlgebra\n",
    "n = 100\n",
    "inp1 = rand(n,n)\n",
    "inp2 = rand(n)\n",
    "    # output: The size of the output is the same as the type of the input vector.\n",
    "out = zeros(n)\n",
    "\n",
    "start = 0.0\n",
    "finish = 0.0\n",
    "\n",
    "start = time_ns()\n",
    "    # Here, we will call the kernel:\n",
    "LinearAlgebra.BLAS.gemv!('N', 1.0, inp1, inp2, 0.0, out)\n",
    "#LinearAlgebra.BLAS.gemv!('T', 1.0, inp1, inp2, 0.0, out)\n",
    "finish = time_ns()\n",
    "\n",
    "println(\"The execution time is:\", (finish-start)*1e-9)\n"
   ]
  },
  {
   "cell_type": "code",
   "execution_count": null,
   "metadata": {},
   "outputs": [],
   "source": []
  }
 ],
 "metadata": {
  "kernelspec": {
   "display_name": "Julia 1.7.3",
   "language": "julia",
   "name": "julia-1.7"
  },
  "language_info": {
   "file_extension": ".jl",
   "mimetype": "application/julia",
   "name": "julia",
   "version": "1.7.3"
  },
  "toc": {
   "base_numbering": 1,
   "nav_menu": {},
   "number_sections": true,
   "sideBar": true,
   "skip_h1_title": false,
   "title_cell": "Table of Contents",
   "title_sidebar": "Contents",
   "toc_cell": false,
   "toc_position": {},
   "toc_section_display": true,
   "toc_window_display": false
  }
 },
 "nbformat": 4,
 "nbformat_minor": 4
}
