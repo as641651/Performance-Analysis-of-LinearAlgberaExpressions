{
 "cells": [
  {
   "cell_type": "code",
   "execution_count": 1,
   "metadata": {},
   "outputs": [
    {
     "name": "stdout",
     "output_type": "stream",
     "text": [
      "The execution time is:0.116248894\n"
     ]
    }
   ],
   "source": [
    "# In this script, we apply the gemm kernel in JUlia\n",
    "# In the first step, we define the input and output variables:\n",
    "    # inp: We have two full rank matrices as our two inputs:\n",
    "        # for now, we assume that both inputs are square matrices --> I do not know if this assumption is necessary or not!\n",
    "        # how should we create a full rank matrix in Julia for this experiment?\n",
    "using LinearAlgebra\n",
    "n = 100\n",
    "inp1 = rand(n,n)\n",
    "inp2 = rand(n,n)\n",
    "    # out: The size of the output is the same as the size of the input.\n",
    "out = zeros(n,n)\n",
    "\n",
    "# Here, since the variables are global, we cannot declare their type.\n",
    "#start::Float64 = 0.0\n",
    "#finish::Float64 = 0.0\n",
    "start = 0.0\n",
    "finish = 0.0\n",
    "\n",
    "start = time_ns()\n",
    "    # Here, we will call the kernel:\n",
    "LinearAlgebra.BLAS.gemm!('N', 'N', 1.0, inp1, inp2, 0.0, out)\n",
    "#LinearAlgebra.BLAS.gemm!('T', 'N', 1.0, inp1, inp2, 0.0, out)\n",
    "#LinearAlgebra.BLAS.gemm!('N', 'T', 1.0, inp1, inp2, 0.0, out)\n",
    "#LinearAlgebra.BLAS.gemm!('T', 'T', 1.0, inp1, inp2, 0.0, out)\n",
    "finish = time_ns()\n",
    "\n",
    "println(\"The execution time is:\", (finish-start)*1e-9)"
   ]
  },
  {
   "cell_type": "code",
   "execution_count": null,
   "metadata": {},
   "outputs": [],
   "source": []
  }
 ],
 "metadata": {
  "kernelspec": {
   "display_name": "Julia 1.7.3",
   "language": "julia",
   "name": "julia-1.7"
  },
  "language_info": {
   "file_extension": ".jl",
   "mimetype": "application/julia",
   "name": "julia",
   "version": "1.7.3"
  },
  "toc": {
   "base_numbering": 1,
   "nav_menu": {},
   "number_sections": true,
   "sideBar": true,
   "skip_h1_title": false,
   "title_cell": "Table of Contents",
   "title_sidebar": "Contents",
   "toc_cell": false,
   "toc_position": {},
   "toc_section_display": true,
   "toc_window_display": false
  }
 },
 "nbformat": 4,
 "nbformat_minor": 4
}
