{
 "cells": [
  {
   "cell_type": "code",
   "execution_count": 1,
   "metadata": {},
   "outputs": [
    {
     "name": "stdout",
     "output_type": "stream",
     "text": [
      "The execution time is:0.12197052400000001\n"
     ]
    }
   ],
   "source": [
    "# This function the input matrix with its pivoted LU factorization.\n",
    "    # I did not find the exact equivalent of this kernel in tensorflow.\n",
    "    # For this reason I used the only existing alternative: The simple lu factorization.\n",
    "    # inp: The input is a matrix: For simplicity, we assume that this matrix is an squared matrix.\n",
    "using LinearAlgebra\n",
    "n = 100\n",
    "inp = randn(n,n)\n",
    "    # out1 : The first output \"lu\" has the same size as the input matrix: I guess this is true for squared matrices.\n",
    "    # out2: the second output is the permutation matrix that is used in the process.\n",
    "    #   I am not sure if the second output has the same size as the input matrix.\n",
    "out1 = zeros(n,n)\n",
    "out2 = zeros(n,n)\n",
    "\n",
    "start = 0.0\n",
    "finish = 0.0\n",
    "\n",
    "start = time_ns()\n",
    "    # Here, we will call the kernel:\n",
    "out1, out2 = LinearAlgebra.LAPACK.getrf!(inp)\n",
    "finish = time_ns()\n",
    "\n",
    "println(\"The execution time is:\", (finish-start)*1e-9)\n"
   ]
  },
  {
   "cell_type": "code",
   "execution_count": null,
   "metadata": {},
   "outputs": [],
   "source": []
  }
 ],
 "metadata": {
  "kernelspec": {
   "display_name": "Julia 1.7.3",
   "language": "julia",
   "name": "julia-1.7"
  },
  "language_info": {
   "file_extension": ".jl",
   "mimetype": "application/julia",
   "name": "julia",
   "version": "1.7.3"
  },
  "toc": {
   "base_numbering": 1,
   "nav_menu": {},
   "number_sections": true,
   "sideBar": true,
   "skip_h1_title": false,
   "title_cell": "Table of Contents",
   "title_sidebar": "Contents",
   "toc_cell": false,
   "toc_position": {},
   "toc_section_display": true,
   "toc_window_display": false
  }
 },
 "nbformat": 4,
 "nbformat_minor": 4
}
