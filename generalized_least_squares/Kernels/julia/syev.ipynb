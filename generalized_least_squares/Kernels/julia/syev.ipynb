{
 "cells": [
  {
   "cell_type": "code",
   "execution_count": 1,
   "metadata": {},
   "outputs": [
    {
     "name": "stdout",
     "output_type": "stream",
     "text": [
      "The execution time is:0.333466762\n"
     ]
    }
   ],
   "source": [
    "# This function applies eigen-decomposition  of the input matrix.\n",
    "    # inp: The input is a symmetric matrix.\n",
    "using LinearAlgebra\n",
    "n = 100\n",
    "inp = randn(n,n)\n",
    "inp = Matrix(Symmetric(inp, :L))\n",
    "    # out1: The first output is a vector containing all eigenvalues of the matrix.\n",
    "    # This vector has n entries.\n",
    "    # out2: The second output is a matrix containing the eigenvectors of the input matrix.\n",
    "    # It hats the same size as the input matrix.\n",
    "out1 = zeros(n)\n",
    "out2 = zeros(n,n)\n",
    "\n",
    "start = 0.0\n",
    "finish = 0.0\n",
    "\n",
    "start = time_ns()\n",
    "    # Here, we will call the kernel:\n",
    "out1, out2 = LinearAlgebra.LAPACK.syev!('V', 'L', inp)\n",
    "finish = time_ns()\n",
    "\n",
    "println(\"The execution time is:\", (finish-start)*1e-9)\n"
   ]
  }
 ],
 "metadata": {
  "kernelspec": {
   "display_name": "Julia 1.7.3",
   "language": "julia",
   "name": "julia-1.7"
  },
  "language_info": {
   "file_extension": ".jl",
   "mimetype": "application/julia",
   "name": "julia",
   "version": "1.7.3"
  },
  "toc": {
   "base_numbering": 1,
   "nav_menu": {},
   "number_sections": true,
   "sideBar": true,
   "skip_h1_title": false,
   "title_cell": "Table of Contents",
   "title_sidebar": "Contents",
   "toc_cell": false,
   "toc_position": {},
   "toc_section_display": true,
   "toc_window_display": false
  }
 },
 "nbformat": 4,
 "nbformat_minor": 4
}
