{
 "cells": [
  {
   "cell_type": "code",
   "execution_count": null,
   "metadata": {},
   "outputs": [],
   "source": [
    "# This function computes the qr factorization of the input matrix.\n",
    "    # inp: The input matrix is not required at all to be a squared matrix.\n",
    "    # However, for simplicity, here we assume that the input matrix is an squared matrix of size n*n.\n",
    "using LinearAlgebra\n",
    "n = 100\n",
    "inp = randn(n,n)\n",
    "    # out: Here, since we assumed that the input matrix is a squared matrix, the two output matrices will also be\n",
    "    #   of the same size.\n",
    "out1 = zeros(n,n)\n",
    "out2 = zeros(n,n)\n",
    "\n",
    "start = 0.0\n",
    "finish = 0.0\n",
    "\n",
    "start = time_ns()\n",
    "    # Here, we will call the kernel:\n",
    "inp = LinearAlgebra.qr!(inp)\n",
    "out1 = inp.Q\n",
    "out2 = inp.R\n",
    "finish = time_ns()\n",
    "\n",
    "println(\"The execution time is:\", (finish-start)*1e-9)\n"
   ]
  }
 ],
 "metadata": {
  "kernelspec": {
   "display_name": "Julia 1.7.3",
   "language": "julia",
   "name": "julia-1.7"
  },
  "language_info": {
   "file_extension": ".jl",
   "mimetype": "application/julia",
   "name": "julia",
   "version": "1.7.3"
  },
  "toc": {
   "base_numbering": 1,
   "nav_menu": {},
   "number_sections": true,
   "sideBar": true,
   "skip_h1_title": false,
   "title_cell": "Table of Contents",
   "title_sidebar": "Contents",
   "toc_cell": false,
   "toc_position": {},
   "toc_section_display": true,
   "toc_window_display": false
  }
 },
 "nbformat": 4,
 "nbformat_minor": 4
}
