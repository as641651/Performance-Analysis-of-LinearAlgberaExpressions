{
 "cells": [
  {
   "cell_type": "code",
   "execution_count": null,
   "metadata": {},
   "outputs": [],
   "source": [
    "# This function only transposes the input matrix.\n",
    "using LinearAlgebra\n",
    "n = 100\n",
    "inp1 = randn(n,n)\n",
    "\n",
    "start = 0.0\n",
    "finish = 0.0\n",
    "\n",
    "start = time_ns()\n",
    "    # Here, we execute the operation:\n",
    "for i = 1:n-1;\n",
    "    view(inp1, i, i+1:n)[:] = view(inp1, i+1:n, i);\n",
    "end;\n",
    "finish = time_ns()\n",
    "\n",
    "println(\"The execution time is:\", (finish-start)*1e-9)\n"
   ]
  }
 ],
 "metadata": {
  "kernelspec": {
   "display_name": "Julia 1.7.3",
   "language": "julia",
   "name": "julia-1.7"
  },
  "language_info": {
   "file_extension": ".jl",
   "mimetype": "application/julia",
   "name": "julia",
   "version": "1.7.3"
  },
  "toc": {
   "base_numbering": 1,
   "nav_menu": {},
   "number_sections": true,
   "sideBar": true,
   "skip_h1_title": false,
   "title_cell": "Table of Contents",
   "title_sidebar": "Contents",
   "toc_cell": false,
   "toc_position": {},
   "toc_section_display": true,
   "toc_window_display": false
  }
 },
 "nbformat": 4,
 "nbformat_minor": 4
}
