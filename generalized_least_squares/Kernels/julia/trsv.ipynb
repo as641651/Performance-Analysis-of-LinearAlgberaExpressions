{
 "cells": [
  {
   "cell_type": "code",
   "execution_count": 1,
   "metadata": {},
   "outputs": [
    {
     "name": "stdout",
     "output_type": "stream",
     "text": [
      "The execution time is:0.10173441100000001\n"
     ]
    }
   ],
   "source": [
    "# This function overwrites vector b with the solution to A*x = b.\n",
    "    # A is a lower triangular matrix and could be either in its initial form or transformed.\n",
    "    # For simplicity we assume for now that the input matrix is a squared matrix.\n",
    "    # inp1: a lower triangular matrix\n",
    "    # inp2: a vector\n",
    "using LinearAlgebra\n",
    "n = 100\n",
    "inp1 = randn(n,n)\n",
    "inp1 = Matrix(LowerTriangular(inp1))\n",
    "inp2 = randn(n)\n",
    "    # out: size of the output must be equivalent to the size of te inputs.\n",
    "out = zeros(n)\n",
    "\n",
    "start = 0.0\n",
    "finish = 0.0\n",
    "\n",
    "start = time_ns()\n",
    "    # Here, we will call the kernel(2 variants):\n",
    "LinearAlgebra.BLAS.trsv!('L', 'N', 'N', inp1, inp2)\n",
    "# LinearAlgebra.BLAS.trsv!('L', 'T', 'N', inp1, inp2)\n",
    "out = inp2\n",
    "finish = time_ns()\n",
    "\n",
    "println(\"The execution time is:\", (finish-start)*1e-9)\n"
   ]
  }
 ],
 "metadata": {
  "kernelspec": {
   "display_name": "Julia 1.7.3",
   "language": "julia",
   "name": "julia-1.7"
  },
  "language_info": {
   "file_extension": ".jl",
   "mimetype": "application/julia",
   "name": "julia",
   "version": "1.7.3"
  },
  "toc": {
   "base_numbering": 1,
   "nav_menu": {},
   "number_sections": true,
   "sideBar": true,
   "skip_h1_title": false,
   "title_cell": "Table of Contents",
   "title_sidebar": "Contents",
   "toc_cell": false,
   "toc_position": {},
   "toc_section_display": true,
   "toc_window_display": false
  }
 },
 "nbformat": 4,
 "nbformat_minor": 4
}
