{
 "cells": [
  {
   "cell_type": "code",
   "execution_count": 22,
   "id": "8343e85f",
   "metadata": {},
   "outputs": [],
   "source": [
    "\n",
    "# importing poisson from scipy\n",
    "from scipy.stats import poisson\n",
    " \n",
    "# importing numpy as np\n",
    "import numpy as np\n",
    " \n",
    "# importing matplotlib as plt\n",
    "import matplotlib.pyplot as plt\n",
    "\n",
    "import pandas as pd \n",
    " \n",
    " \n"
   ]
  },
  {
   "cell_type": "code",
   "execution_count": 50,
   "id": "6f045691",
   "metadata": {},
   "outputs": [
    {
     "data": {
      "image/png": "[encoded data removed]",
      "text/plain": [
       "<Figure size 432x288 with 1 Axes>"
      ]
     },
     "metadata": {
      "needs_background": "light"
     },
     "output_type": "display_data"
    }
   ],
   "source": [
    "# creating a numpy array for x-axis\n",
    "x = np.arange(0, 100, 0.5)\n",
    " \n",
    "# poisson distribution data for y-axis\n",
    "y = poisson.pmf(x, mu=10, loc=2)\n",
    " \n",
    " \n",
    "# plotting the graph\n",
    "plt.plot(x, y)\n",
    " \n",
    "# showing the graph\n",
    "plt.show()"
   ]
  },
  {
   "cell_type": "code",
   "execution_count": 41,
   "id": "24820775",
   "metadata": {},
   "outputs": [
    {
     "data": {
      "text/plain": [
       "200"
      ]
     },
     "execution_count": 41,
     "metadata": {},
     "output_type": "execute_result"
    }
   ],
   "source": [
    "len(y)"
   ]
  },
  {
   "cell_type": "code",
   "execution_count": null,
   "id": "97ed20bb",
   "metadata": {},
   "outputs": [],
   "source": [
    "np.linspace(0.1,0.2,100)"
   ]
  },
  {
   "cell_type": "code",
   "execution_count": 23,
   "id": "26a21d03",
   "metadata": {},
   "outputs": [
    {
     "data": {
      "text/html": [
       "<div>\n",
       "<style scoped>\n",
       "    .dataframe tbody tr th:only-of-type {\n",
       "        vertical-align: middle;\n",
       "    }\n",
       "\n",
       "    .dataframe tbody tr th {\n",
       "        vertical-align: top;\n",
       "    }\n",
       "\n",
       "    .dataframe thead th {\n",
       "        text-align: right;\n",
       "    }\n",
       "</style>\n",
       "<table border=\"1\" class=\"dataframe\">\n",
       "  <thead>\n",
       "    <tr style=\"text-align: right;\">\n",
       "      <th></th>\n",
       "      <th>0</th>\n",
       "    </tr>\n",
       "  </thead>\n",
       "  <tbody>\n",
       "    <tr>\n",
       "      <th>0</th>\n",
       "      <td>0.000000e+00</td>\n",
       "    </tr>\n",
       "    <tr>\n",
       "      <th>1</th>\n",
       "      <td>0.000000e+00</td>\n",
       "    </tr>\n",
       "    <tr>\n",
       "      <th>2</th>\n",
       "      <td>0.000000e+00</td>\n",
       "    </tr>\n",
       "    <tr>\n",
       "      <th>3</th>\n",
       "      <td>0.000000e+00</td>\n",
       "    </tr>\n",
       "    <tr>\n",
       "      <th>4</th>\n",
       "      <td>0.000000e+00</td>\n",
       "    </tr>\n",
       "    <tr>\n",
       "      <th>...</th>\n",
       "      <td>...</td>\n",
       "    </tr>\n",
       "    <tr>\n",
       "      <th>195</th>\n",
       "      <td>0.000000e+00</td>\n",
       "    </tr>\n",
       "    <tr>\n",
       "      <th>196</th>\n",
       "      <td>3.924707e-56</td>\n",
       "    </tr>\n",
       "    <tr>\n",
       "      <th>197</th>\n",
       "      <td>0.000000e+00</td>\n",
       "    </tr>\n",
       "    <tr>\n",
       "      <th>198</th>\n",
       "      <td>4.175220e-57</td>\n",
       "    </tr>\n",
       "    <tr>\n",
       "      <th>199</th>\n",
       "      <td>0.000000e+00</td>\n",
       "    </tr>\n",
       "  </tbody>\n",
       "</table>\n",
       "<p>200 rows × 1 columns</p>\n",
       "</div>"
      ],
      "text/plain": [
       "                0\n",
       "0    0.000000e+00\n",
       "1    0.000000e+00\n",
       "2    0.000000e+00\n",
       "3    0.000000e+00\n",
       "4    0.000000e+00\n",
       "..            ...\n",
       "195  0.000000e+00\n",
       "196  3.924707e-56\n",
       "197  0.000000e+00\n",
       "198  4.175220e-57\n",
       "199  0.000000e+00\n",
       "\n",
       "[200 rows x 1 columns]"
      ]
     },
     "execution_count": 23,
     "metadata": {},
     "output_type": "execute_result"
    }
   ],
   "source": [
    "pd.DataFrame(y)"
   ]
  },
  {
   "cell_type": "code",
   "execution_count": 51,
   "id": "eb82eceb",
   "metadata": {},
   "outputs": [],
   "source": [
    "pd.DataFrame(y).to_csv(\"exec_times.csv\")"
   ]
  },
  {
   "cell_type": "code",
   "execution_count": 24,
   "id": "350039eb",
   "metadata": {},
   "outputs": [],
   "source": [
    "from numpy import random\n"
   ]
  },
  {
   "cell_type": "code",
   "execution_count": 26,
   "id": "b49ee30f",
   "metadata": {},
   "outputs": [
    {
     "name": "stdout",
     "output_type": "stream",
     "text": [
      "[ 0.85265832 -0.66221963  0.20575097  0.56109507 -0.5132557  -0.34954128\n",
      "  0.74158857  0.75932842  0.71655817  0.4024423  -0.02187423  0.63824165\n",
      "  1.75379314  0.80606385  0.19316403  0.62175992  0.76008289 -1.30989507\n",
      "  0.89526315  0.83487281 -0.95081051 -0.68991175 -1.21226277  0.52092556\n",
      " -0.97444835 -1.79651197 -0.97420687 -2.32960314  2.26477605 -1.85380908\n",
      "  0.07452298 -0.91828414 -1.54358514  0.59361605  1.16660499  0.53885692\n",
      "  0.1820279   1.11628545  1.89487788  0.55221445 -0.72720947 -0.87297465\n",
      "  0.03385972 -1.9458507  -0.28552676 -0.40860587  0.3727927  -0.97275175\n",
      " -1.38245001  1.96562868  0.28714796 -0.42985753 -0.76142101  0.13991468\n",
      "  0.14057385 -0.06480572 -0.30632439  0.22117779  0.04728405 -0.24423276\n",
      " -0.10533053 -1.35192635 -0.43676936  0.65426279 -0.79562463  1.17704788\n",
      " -0.26813408  1.96794734  1.41024604  0.07181314  1.67387208 -1.913658\n",
      "  0.96205928 -0.24140289 -0.16301803  0.2621656   0.3060776   0.69249598\n",
      " -1.07800932  1.06970331 -0.39060364 -1.66202361  0.10374677 -0.0544256\n",
      " -0.20398175  1.14474901 -1.07944336 -0.07146897 -0.88547878 -0.55101535\n",
      "  1.16169862  0.00535925 -0.97944599 -0.22889399  0.38580873 -1.43678333\n",
      " -0.32337383 -0.10425093 -0.02384115  1.05883345]\n"
     ]
    }
   ],
   "source": [
    "\n",
    "x = random.normal(size=(100))\n",
    "\n",
    "print(x)"
   ]
  },
  {
   "cell_type": "code",
   "execution_count": 28,
   "id": "5ada5618",
   "metadata": {},
   "outputs": [],
   "source": [
    "import matplotlib.pyplot as plt\n",
    "import seaborn as sns"
   ]
  },
  {
   "cell_type": "code",
   "execution_count": 31,
   "id": "d447cf26",
   "metadata": {},
   "outputs": [
    {
     "name": "stderr",
     "output_type": "stream",
     "text": [
      "/Users/aravind/exercise/PyCharmProjects/performance-analyzer/venv/lib/python3.9/site-packages/seaborn/distributions.py:2619: FutureWarning: `distplot` is a deprecated function and will be removed in a future version. Please adapt your code to use either `displot` (a figure-level function with similar flexibility) or `histplot` (an axes-level function for histograms).\n",
      "  warnings.warn(msg, FutureWarning)\n"
     ]
    },
    {
     "data": {
      "image/png": "[encoded data removed]",
      "text/plain": [
       "<Figure size 432x288 with 1 Axes>"
      ]
     },
     "metadata": {
      "needs_background": "light"
     },
     "output_type": "display_data"
    }
   ],
   "source": [
    "sns.distplot(random.normal(loc=0.1,size=1000))\n",
    "\n",
    "plt.show()\n"
   ]
  },
  {
   "cell_type": "code",
   "execution_count": 38,
   "id": "6473a857",
   "metadata": {},
   "outputs": [
    {
     "name": "stderr",
     "output_type": "stream",
     "text": [
      "/Users/aravind/exercise/PyCharmProjects/performance-analyzer/venv/lib/python3.9/site-packages/seaborn/distributions.py:2619: FutureWarning: `distplot` is a deprecated function and will be removed in a future version. Please adapt your code to use either `displot` (a figure-level function with similar flexibility) or `histplot` (an axes-level function for histograms).\n",
      "  warnings.warn(msg, FutureWarning)\n"
     ]
    },
    {
     "data": {
      "text/plain": [
       "<AxesSubplot:ylabel='Density'>"
      ]
     },
     "execution_count": 38,
     "metadata": {},
     "output_type": "execute_result"
    },
    {
     "data": {
      "image/png": "[encoded data removed]",
      "text/plain": [
       "<Figure size 432x288 with 1 Axes>"
      ]
     },
     "metadata": {
      "needs_background": "light"
     },
     "output_type": "display_data"
    }
   ],
   "source": [
    "sns.distplot(random.poisson(lam=5, size=1000), hist=True, label='poisson')"
   ]
  },
  {
   "cell_type": "code",
   "execution_count": 37,
   "id": "aa8cc38f",
   "metadata": {},
   "outputs": [
    {
     "data": {
      "text/plain": [
       "array([ 2,  8,  4,  4,  4,  7, 10,  6,  5, 10,  3,  9,  2,  4,  3,  5,  8,\n",
       "        5,  8,  4,  5,  5,  7, 10,  0,  7,  6,  3,  7,  4,  7,  4,  4,  9,\n",
       "        4, 12,  3,  3,  3,  8,  6,  7,  4,  3,  8,  3,  4,  3,  8,  3,  4,\n",
       "        1,  9,  9,  7,  5,  4,  8,  3,  6,  5,  4,  3,  3,  5,  7,  2,  3,\n",
       "        9,  3,  5,  4,  7,  3,  3,  9,  9,  2,  5,  5,  3,  2,  4,  4,  6,\n",
       "        4,  1,  2,  3,  4,  8,  4,  6,  3,  4,  5,  3,  7,  4,  4,  4,  7,\n",
       "        6,  5,  7,  4,  5,  5,  9,  6,  1,  6,  4,  6,  5,  1,  6,  1,  6,\n",
       "        2,  7,  5,  8,  7,  2,  5,  1,  7,  4,  8,  5,  8,  2,  7,  3,  5,\n",
       "        5,  7,  6,  5,  5,  5,  3,  6,  5,  7,  6,  5,  3,  4,  6,  6,  4,\n",
       "        6,  4,  9,  8, 10,  4,  4,  3,  5,  2, 11,  7,  6, 10,  4,  8,  5,\n",
       "        8,  3,  3,  6,  4,  4,  2,  6,  2,  5,  3,  5,  3,  7,  3,  4,  8,\n",
       "        7,  8,  0,  8,  4,  2, 10,  8,  4,  5,  6,  5,  8,  4,  1,  6,  7,\n",
       "       10,  3,  6,  4,  5,  7,  5,  9,  4,  9,  7,  7,  6,  2,  3,  8,  3,\n",
       "        6,  7,  6,  4, 13,  6,  0,  2,  2,  7,  5,  2,  2,  2,  5,  5,  5,\n",
       "        7,  4,  3,  0,  3,  5,  3,  9,  6,  3,  5,  3,  5,  9,  9,  3,  5,\n",
       "        3,  5,  2,  7,  8,  5,  6, 11,  7,  7,  9,  6,  4,  3,  2,  5, 13,\n",
       "        1,  4,  2,  5,  5,  4,  4,  2,  5,  6,  4,  9,  7,  3,  6,  3,  0,\n",
       "        3,  4,  9,  8,  5,  6,  6,  2,  7,  7,  6,  8,  3,  2,  1,  4,  7,\n",
       "        6,  4,  6,  4,  5,  6,  5,  5,  2,  5,  1,  4,  6,  4,  8,  8,  3,\n",
       "        7,  5,  5,  5,  3, 11,  4,  2,  7,  2,  4,  8,  5,  5,  2,  2,  7,\n",
       "        2,  3,  7,  7,  3,  3,  6,  4,  4,  3,  5,  4,  8,  5,  5,  6,  3,\n",
       "        6,  6,  8,  7,  7,  5,  4,  3,  4,  2,  5,  7,  7,  7,  3,  2,  4,\n",
       "        2, 13,  6,  3,  6,  1,  2,  5,  3,  6,  4,  6,  4,  5,  3,  3,  5,\n",
       "        5,  5,  4,  8,  5,  5,  1,  6,  4,  7,  5,  8,  6,  7,  6,  2,  0,\n",
       "       12,  4,  0,  2,  4,  6,  6,  4,  8,  8,  6,  7,  5,  6,  6, 10,  3,\n",
       "        9,  5,  4,  9,  6,  5,  6,  5,  4,  5,  7,  6,  6,  6, 10,  0,  1,\n",
       "        2,  5,  6,  4,  4,  4,  3,  4,  6,  6,  6,  6,  3,  9,  2,  4,  5,\n",
       "        4,  3,  4,  5,  7,  2,  7,  6,  5,  3,  1,  3,  3,  4,  4,  2,  1,\n",
       "        4,  5,  5,  7,  8,  8,  7,  3,  5,  5,  7,  4,  2,  4,  4,  2,  4,\n",
       "        1,  4,  5,  4,  2,  8,  4,  7,  9,  5,  4,  4,  8,  4,  4,  7,  7,\n",
       "        7,  2,  5,  6,  5,  5,  7,  5,  4,  6,  3,  3,  1,  7,  4,  3,  5,\n",
       "        7,  8,  5,  5, 10,  2,  6,  5,  6,  4, 11,  7,  6,  6,  1,  4,  3,\n",
       "        7, 10,  8,  5,  6,  4,  5,  7,  2, 12,  3,  3,  3,  3,  3,  5,  5,\n",
       "        2,  2,  4,  7,  3,  6,  5,  6,  5,  6,  2,  5,  5,  4,  1,  8,  3,\n",
       "        4,  4,  3,  3,  7,  5,  8,  3,  8,  5,  4,  6,  4,  3,  6,  7,  2,\n",
       "        5,  7,  5,  2,  6,  5,  5,  3,  5,  6,  8,  4,  6,  6,  7,  3,  6,\n",
       "        9,  7,  2,  7,  8,  5, 10,  4,  8,  6,  4,  9,  4,  3,  9,  4,  1,\n",
       "        4,  3,  2,  6,  1,  8,  4,  4,  7,  7,  9,  3,  3,  5,  5,  9,  2,\n",
       "        5,  6,  6,  6,  6,  3,  3,  4,  3,  5,  6,  6,  5,  3,  9,  7,  6,\n",
       "        9,  6,  6,  7, 10,  7,  5,  7,  4,  5,  5,  5,  5,  2,  9,  4,  5,\n",
       "        7,  1,  5,  8,  1,  1,  6,  4,  4,  3,  5,  6,  4,  3,  5,  4,  7,\n",
       "        3,  3,  9,  3,  5,  7,  4,  5,  4,  5,  8,  4,  1,  6,  6,  6,  5,\n",
       "        2,  5,  4,  4,  2,  3,  4,  2,  5,  1,  1,  8,  3,  2,  4,  4,  4,\n",
       "        3,  7,  8,  3,  1,  3,  5,  7,  2,  3,  8,  4,  6,  6,  4,  5,  3,\n",
       "        5,  7,  3,  7,  5,  6,  7,  3,  0,  4,  2,  9,  7,  5,  5,  5,  4,\n",
       "        8,  5,  5,  5,  6,  7,  2,  2,  4,  6,  7,  2,  8,  4,  6,  4,  4,\n",
       "        5,  4,  4,  4,  8,  7,  8,  8,  3,  4,  8,  2,  3,  7,  8,  4,  4,\n",
       "        5,  9,  2,  5,  0,  6,  6,  9,  1,  6,  6,  3,  4,  4,  1,  1,  6,\n",
       "        5,  4,  7,  4,  6,  7,  3,  4,  3,  8,  5,  3,  6,  4,  2,  6,  3,\n",
       "        7,  4,  0,  5,  7,  8,  5,  2,  4,  4,  6,  5, 11,  7,  6,  2,  5,\n",
       "        5,  2,  4,  5,  0,  9,  7,  3,  6,  5,  5,  7,  4,  8, 11,  2,  5,\n",
       "        7,  5,  6,  5,  7,  4,  4,  9,  4,  4,  6,  2,  6,  7,  9,  5,  6,\n",
       "        4,  3,  5,  6,  3,  5,  2,  4,  3,  3,  3,  3,  4,  4,  6,  7,  7,\n",
       "        4,  6,  7,  8,  7,  3,  4,  4,  9,  9,  7,  4,  1, 10,  4,  3,  7,\n",
       "        7,  5,  3,  3,  6,  8,  1,  8,  7,  5,  3,  8,  6,  6,  3,  4,  6,\n",
       "        8,  4, 10,  9,  8,  1,  3,  7,  3,  3,  4,  5,  8,  8,  5,  5,  5,\n",
       "        3,  3,  6,  5,  9,  5,  3,  3,  7,  3,  6, 10,  4,  4,  5,  5,  8,\n",
       "        7,  3,  4,  7,  4,  5,  3,  9,  5,  4,  9,  4,  5,  6,  7,  7,  3,\n",
       "        3,  5,  6,  6,  8,  7,  2,  7,  1,  5,  5,  6,  7,  7])"
      ]
     },
     "execution_count": 37,
     "metadata": {},
     "output_type": "execute_result"
    }
   ],
   "source": [
    "random.poisson(lam=5, size=1000)"
   ]
  },
  {
   "cell_type": "code",
   "execution_count": 52,
   "id": "8e923669",
   "metadata": {},
   "outputs": [],
   "source": [
    "from scipy.stats import skewnorm"
   ]
  },
  {
   "cell_type": "code",
   "execution_count": 67,
   "id": "1cbf3e7a",
   "metadata": {},
   "outputs": [],
   "source": [
    "a = 10"
   ]
  },
  {
   "cell_type": "code",
   "execution_count": 68,
   "id": "81e300cb",
   "metadata": {},
   "outputs": [],
   "source": [
    "r = skewnorm.rvs(a, size=1000)+1"
   ]
  },
  {
   "cell_type": "code",
   "execution_count": 69,
   "id": "eabe053f",
   "metadata": {},
   "outputs": [
    {
     "data": {
      "image/png": "[encoded data removed]",
      "text/plain": [
       "<Figure size 432x288 with 1 Axes>"
      ]
     },
     "metadata": {
      "needs_background": "light"
     },
     "output_type": "display_data"
    }
   ],
   "source": [
    "plt.hist(r, density=False, histtype='stepfilled', alpha=0.2)\n",
    "plt.show()"
   ]
  },
  {
   "cell_type": "code",
   "execution_count": 79,
   "id": "f4cf7bdb",
   "metadata": {},
   "outputs": [],
   "source": [
    "df = pd.DataFrame(r)\n",
    "df.columns = ['time']"
   ]
  },
  {
   "cell_type": "code",
   "execution_count": 81,
   "id": "4ebcca99",
   "metadata": {},
   "outputs": [
    {
     "data": {
      "text/html": [
       "<div>\n",
       "<style scoped>\n",
       "    .dataframe tbody tr th:only-of-type {\n",
       "        vertical-align: middle;\n",
       "    }\n",
       "\n",
       "    .dataframe tbody tr th {\n",
       "        vertical-align: top;\n",
       "    }\n",
       "\n",
       "    .dataframe thead th {\n",
       "        text-align: right;\n",
       "    }\n",
       "</style>\n",
       "<table border=\"1\" class=\"dataframe\">\n",
       "  <thead>\n",
       "    <tr style=\"text-align: right;\">\n",
       "      <th></th>\n",
       "      <th>time</th>\n",
       "    </tr>\n",
       "  </thead>\n",
       "  <tbody>\n",
       "    <tr>\n",
       "      <th>0</th>\n",
       "      <td>1.808678</td>\n",
       "    </tr>\n",
       "    <tr>\n",
       "      <th>1</th>\n",
       "      <td>1.330170</td>\n",
       "    </tr>\n",
       "    <tr>\n",
       "      <th>2</th>\n",
       "      <td>2.977783</td>\n",
       "    </tr>\n",
       "    <tr>\n",
       "      <th>3</th>\n",
       "      <td>1.259443</td>\n",
       "    </tr>\n",
       "    <tr>\n",
       "      <th>4</th>\n",
       "      <td>2.131091</td>\n",
       "    </tr>\n",
       "  </tbody>\n",
       "</table>\n",
       "</div>"
      ],
      "text/plain": [
       "       time\n",
       "0  1.808678\n",
       "1  1.330170\n",
       "2  2.977783\n",
       "3  1.259443\n",
       "4  2.131091"
      ]
     },
     "execution_count": 81,
     "metadata": {},
     "output_type": "execute_result"
    }
   ],
   "source": [
    "df.head()"
   ]
  },
  {
   "cell_type": "code",
   "execution_count": 82,
   "id": "6f6ea24a",
   "metadata": {},
   "outputs": [],
   "source": [
    "df.to_csv(\"exec_times.csv\")"
   ]
  },
  {
   "cell_type": "code",
   "execution_count": null,
   "id": "3c8ad5ee",
   "metadata": {},
   "outputs": [],
   "source": []
  }
 ],
 "metadata": {
  "kernelspec": {
   "display_name": "Python 3 (ipykernel)",
   "language": "python",
   "name": "python3"
  },
  "language_info": {
   "codemirror_mode": {
    "name": "ipython",
    "version": 3
   },
   "file_extension": ".py",
   "mimetype": "text/x-python",
   "name": "python",
   "nbconvert_exporter": "python",
   "pygments_lexer": "ipython3",
   "version": "3.9.7"
  }
 },
 "nbformat": 4,
 "nbformat_minor": 5
}
