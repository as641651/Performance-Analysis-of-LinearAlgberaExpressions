{
 "cells": [
  {
   "cell_type": "code",
   "execution_count": 30,
   "id": "5bccdb59",
   "metadata": {},
   "outputs": [],
   "source": [
    "import random"
   ]
  },
  {
   "cell_type": "code",
   "execution_count": 16,
   "id": "7bc52515",
   "metadata": {},
   "outputs": [],
   "source": [
    "def variant1():\n",
    "    return 1\n",
    "\n",
    "def variant2():\n",
    "    return 2\n",
    "\n",
    "def variant3():\n",
    "    return 3\n",
    "\n",
    "def variant4():\n",
    "    return 4\n",
    "\n",
    "def variant5():\n",
    "    return 5"
   ]
  },
  {
   "cell_type": "code",
   "execution_count": 17,
   "id": "e78a8ca3",
   "metadata": {},
   "outputs": [],
   "source": [
    "R = 10"
   ]
  },
  {
   "cell_type": "code",
   "execution_count": 18,
   "id": "5dea96d3",
   "metadata": {},
   "outputs": [],
   "source": [
    "v1_instance_set = [variant1]*R"
   ]
  },
  {
   "cell_type": "code",
   "execution_count": 19,
   "id": "5525b6e4",
   "metadata": {},
   "outputs": [
    {
     "data": {
      "text/plain": [
       "[<function __main__.variant1()>,\n",
       " <function __main__.variant1()>,\n",
       " <function __main__.variant1()>,\n",
       " <function __main__.variant1()>,\n",
       " <function __main__.variant1()>,\n",
       " <function __main__.variant1()>,\n",
       " <function __main__.variant1()>,\n",
       " <function __main__.variant1()>,\n",
       " <function __main__.variant1()>,\n",
       " <function __main__.variant1()>]"
      ]
     },
     "execution_count": 19,
     "metadata": {},
     "output_type": "execute_result"
    }
   ],
   "source": [
    "v1_instance_set"
   ]
  },
  {
   "cell_type": "code",
   "execution_count": 20,
   "id": "95abdf6a",
   "metadata": {},
   "outputs": [
    {
     "data": {
      "text/plain": [
       "1"
      ]
     },
     "execution_count": 20,
     "metadata": {},
     "output_type": "execute_result"
    }
   ],
   "source": [
    "v1_instance_set[0]()"
   ]
  },
  {
   "cell_type": "code",
   "execution_count": 25,
   "id": "7b0fdd1a",
   "metadata": {},
   "outputs": [],
   "source": [
    "variants = [variant1, variant2, variant3, variant4, variant5]"
   ]
  },
  {
   "cell_type": "code",
   "execution_count": 33,
   "id": "2e484eb5",
   "metadata": {},
   "outputs": [
    {
     "data": {
      "text/plain": [
       "[(0, <function __main__.variant1()>),\n",
       " (1, <function __main__.variant1()>),\n",
       " (2, <function __main__.variant1()>)]"
      ]
     },
     "execution_count": 33,
     "metadata": {},
     "output_type": "execute_result"
    }
   ],
   "source": [
    "[(i,variant1) for i in range(3)]"
   ]
  },
  {
   "cell_type": "code",
   "execution_count": 34,
   "id": "9282cde5",
   "metadata": {},
   "outputs": [],
   "source": [
    "measurements_instance_set = []\n",
    "for variant in variants:\n",
    "    measurements_instance_set = measurements_instance_set + [(i,variant) for i in range(3)]"
   ]
  },
  {
   "cell_type": "code",
   "execution_count": 35,
   "id": "4f5e466a",
   "metadata": {},
   "outputs": [
    {
     "data": {
      "text/plain": [
       "[(0, <function __main__.variant1()>),\n",
       " (1, <function __main__.variant1()>),\n",
       " (2, <function __main__.variant1()>),\n",
       " (0, <function __main__.variant2()>),\n",
       " (1, <function __main__.variant2()>),\n",
       " (2, <function __main__.variant2()>),\n",
       " (0, <function __main__.variant3()>),\n",
       " (1, <function __main__.variant3()>),\n",
       " (2, <function __main__.variant3()>),\n",
       " (0, <function __main__.variant4()>),\n",
       " (1, <function __main__.variant4()>),\n",
       " (2, <function __main__.variant4()>),\n",
       " (0, <function __main__.variant5()>),\n",
       " (1, <function __main__.variant5()>),\n",
       " (2, <function __main__.variant5()>)]"
      ]
     },
     "execution_count": 35,
     "metadata": {},
     "output_type": "execute_result"
    }
   ],
   "source": [
    "measurements_instance_set"
   ]
  },
  {
   "cell_type": "code",
   "execution_count": 37,
   "id": "42af85f3",
   "metadata": {},
   "outputs": [],
   "source": [
    "random.shuffle(measurements_instance_set)"
   ]
  },
  {
   "cell_type": "code",
   "execution_count": 38,
   "id": "0ed7f380",
   "metadata": {},
   "outputs": [
    {
     "data": {
      "text/plain": [
       "[(0, <function __main__.variant2()>),\n",
       " (0, <function __main__.variant3()>),\n",
       " (2, <function __main__.variant1()>),\n",
       " (1, <function __main__.variant3()>),\n",
       " (1, <function __main__.variant4()>),\n",
       " (1, <function __main__.variant2()>),\n",
       " (0, <function __main__.variant4()>),\n",
       " (0, <function __main__.variant1()>),\n",
       " (2, <function __main__.variant4()>),\n",
       " (1, <function __main__.variant1()>),\n",
       " (1, <function __main__.variant5()>),\n",
       " (2, <function __main__.variant3()>),\n",
       " (2, <function __main__.variant5()>),\n",
       " (2, <function __main__.variant2()>),\n",
       " (0, <function __main__.variant5()>)]"
      ]
     },
     "execution_count": 38,
     "metadata": {},
     "output_type": "execute_result"
    }
   ],
   "source": [
    "measurements_instance_set"
   ]
  },
  {
   "cell_type": "code",
   "execution_count": 39,
   "id": "e755f893",
   "metadata": {},
   "outputs": [
    {
     "name": "stdout",
     "output_type": "stream",
     "text": [
      "0\n",
      "0\n",
      "2\n",
      "1\n",
      "1\n",
      "1\n",
      "0\n",
      "0\n",
      "2\n",
      "1\n",
      "1\n",
      "2\n",
      "2\n",
      "2\n",
      "0\n"
     ]
    }
   ],
   "source": [
    "for id, instance in measurements_instance_set:\n",
    "    print(id)"
   ]
  },
  {
   "cell_type": "code",
   "execution_count": null,
   "id": "9deab35e",
   "metadata": {},
   "outputs": [],
   "source": []
  }
 ],
 "metadata": {
  "kernelspec": {
   "display_name": "Python 3 (ipykernel)",
   "language": "python",
   "name": "python3"
  },
  "language_info": {
   "codemirror_mode": {
    "name": "ipython",
    "version": 3
   },
   "file_extension": ".py",
   "mimetype": "text/x-python",
   "name": "python",
   "nbconvert_exporter": "python",
   "pygments_lexer": "ipython3",
   "version": "3.9.7"
  }
 },
 "nbformat": 4,
 "nbformat_minor": 5
}
